{
  "nbformat": 4,
  "nbformat_minor": 0,
  "metadata": {
    "colab": {
      "provenance": [],
      "authorship_tag": "ABX9TyPbz3mjhiDC7P84ZkNu7O/v",
      "include_colab_link": true
    },
    "kernelspec": {
      "name": "python3",
      "display_name": "Python 3"
    },
    "language_info": {
      "name": "python"
    }
  },
  "cells": [
    {
      "cell_type": "markdown",
      "metadata": {
        "id": "view-in-github",
        "colab_type": "text"
      },
      "source": [
        "<a href=\"https://colab.research.google.com/github/LS10432/PDDS-PYD-0825-06Oct2025B/blob/main/01/Assignment_01b.ipynb\" target=\"_parent\"><img src=\"https://colab.research.google.com/assets/colab-badge.svg\" alt=\"Open In Colab\"/></a>"
      ]
    },
    {
      "cell_type": "markdown",
      "source": [
        "Task 1: Double the Number\n",
        "*   Write a Python function named *double_number* that takes a number as input and returns the double of the number."
      ],
      "metadata": {
        "id": "tYeGG-JfPH0a"
      }
    },
    {
      "cell_type": "code",
      "source": [
        "# Define a function 'double_number' that doubles a number\n",
        "def double_number(num):\n",
        "  # Return the double of 'num'\n",
        "  return num * 2\n",
        "\n",
        "# Loop until the user provides a valid integer input\n",
        "while True:\n",
        "  # Get user input as a string\n",
        "  user_input = input(\"Please enter a number: \")\n",
        "\n",
        "  # Try to convert the input to an integer\n",
        "  try:\n",
        "    num = int(user_input)\n",
        "    # Exit the loop if conversion is successful\n",
        "    break\n",
        "  except ValueError:\n",
        "    # Print error message if input is not a valid integer\n",
        "    print(\"Error: Please enter a valid integer.\")\n",
        "\n",
        "# Call the function 'double_number' and print the returned result\n",
        "print(f\"The double of the number is: {double_number(num)}\")"
      ],
      "metadata": {
        "colab": {
          "base_uri": "https://localhost:8080/"
        },
        "id": "x8RbViMMPMwB",
        "outputId": "2c4ef9fc-1f16-48b6-ea00-18b360a4a157"
      },
      "execution_count": 21,
      "outputs": [
        {
          "output_type": "stream",
          "name": "stdout",
          "text": [
            "Please enter a number: \n",
            "Error: Please enter a valid integer.\n",
            "Please enter a number: asd\n",
            "Error: Please enter a valid integer.\n",
            "Please enter a number: asd asd\n",
            "Error: Please enter a valid integer.\n",
            "Please enter a number: 123 123\n",
            "Error: Please enter a valid integer.\n",
            "Please enter a number: 123\n",
            "The double of the number is: 246\n"
          ]
        }
      ]
    },
    {
      "cell_type": "markdown",
      "source": [
        "Task 2: Count Characters\n",
        "* Create a Python function named *count_characters* that takes a string as input and returns the number of characters in the string.\n",
        "\n",
        "(Hint: len() built-in function will return length of characters)"
      ],
      "metadata": {
        "id": "vmqN0VxpRv5I"
      }
    },
    {
      "cell_type": "code",
      "source": [
        "# Define a function 'count_characters' that counts the character of a string\n",
        "def count_characters(input_string):\n",
        "  # Return the number of characters of 'input_string'\n",
        "  return len(input_string)\n",
        "\n",
        "# Get user input as a string\n",
        "input_string = input(\"Please enter a string: \")\n",
        "\n",
        "# Call the function 'count_characters' and print the returned result\n",
        "print(f\"The number of characters in the string is: {count_characters(input_string)}\")"
      ],
      "metadata": {
        "colab": {
          "base_uri": "https://localhost:8080/"
        },
        "id": "-aB3vV7CR5E8",
        "outputId": "b903dd77-2e2a-40b7-a4e6-1246cb48b177"
      },
      "execution_count": 14,
      "outputs": [
        {
          "output_type": "stream",
          "name": "stdout",
          "text": [
            "Please enter a string: asd\n",
            "The number of characters in the string is: 3\n"
          ]
        }
      ]
    },
    {
      "cell_type": "markdown",
      "source": [
        "Task 3: Check for Evenness\n",
        "* Define a Python function called *is_even* that takes a number as input and returns True if the number is even, or False otherwise."
      ],
      "metadata": {
        "id": "yw8ysu5zUSBE"
      }
    },
    {
      "cell_type": "code",
      "source": [
        "# Define a function named 'is_even' that takes one parameter 'num'\n",
        "def is_even(num):\n",
        "  # Return True if 'num' is divisible by 2, else False\n",
        "  return num % 2 == 0\n",
        "\n",
        "# Loop until the user provides a valid integer input\n",
        "while True:\n",
        "  # Get user input as a string\n",
        "  user_input = input(\"Please enter a number: \")\n",
        "\n",
        "  # Try to convert the input to an integer\n",
        "  try:\n",
        "    num = int(user_input)\n",
        "    # Exit the loop if conversion is successful\n",
        "    break\n",
        "  except ValueError:\n",
        "    # Print error message if input is not a valid integer\n",
        "    print(\"Error: Please enter a valid integer.\")\n",
        "\n",
        "# Call the function 'is_even' and print 'True' if the number is even or 'False' if the number is odd\n",
        "if is_even(num):\n",
        "  print(f\"{is_even(num)}, the number is even.\")\n",
        "else:\n",
        "  print(f\"{is_even(num)}, the number is odd.\")\n"
      ],
      "metadata": {
        "colab": {
          "base_uri": "https://localhost:8080/"
        },
        "id": "JlNNNA3fUv1g",
        "outputId": "de1c6077-a349-4390-cf81-b7744126d83f"
      },
      "execution_count": 22,
      "outputs": [
        {
          "output_type": "stream",
          "name": "stdout",
          "text": [
            "Please enter a number: \n",
            "Error: Please enter a valid integer.\n",
            "Please enter a number: asd\n",
            "Error: Please enter a valid integer.\n",
            "Please enter a number:  \n",
            "Error: Please enter a valid integer.\n",
            "Please enter a number: 123 123 \n",
            "Error: Please enter a valid integer.\n",
            "Please enter a number: 21\n",
            "False, the number is odd.\n"
          ]
        }
      ]
    },
    {
      "cell_type": "markdown",
      "source": [
        "Task 4: Find the Smaller Number\n",
        "* Implement a Python function named *find_smaller_number* that takes two numbers as input and returns the smaller number.\n",
        "\n",
        "(Hint: Remember that you should not use the min() function. Instead, you can utilize if-else statements to compare the two numbers and determine the smaller one.)"
      ],
      "metadata": {
        "id": "zauCNrX8WkER"
      }
    },
    {
      "cell_type": "code",
      "source": [
        "# Define a function named 'find_smaller_number' that takes two parameters 'num1' and 'num2'\n",
        "def find_smaller_number(num1, num2):\n",
        "  # Compare num1 and num2 using if-else to find the smaller number\n",
        "  if num1 < num2:\n",
        "    return num1\n",
        "  elif num2 < num1:\n",
        "    return num2\n",
        "  else:\n",
        "    # Return 'None' if both numbers are the same\n",
        "    return None\n",
        "\n",
        "# Loop until valid input of exactly two numbers is received\n",
        "while True:\n",
        "  # Get user input as a string\n",
        "  user_input = input(\"Please enter 2 numbers separated by a space ' ': \")\n",
        "  # Split into 2 parts\n",
        "  parts = user_input.split()\n",
        "\n",
        "  # Check if exactly two inputs were given\n",
        "  if len(parts) != 2:\n",
        "    # Print a message if not exactly two inputs were given\n",
        "    print(\"Error: Please enter exactly two numbers.\")\n",
        "    continue\n",
        "\n",
        "  # Try to convert both inputs to integers\n",
        "  try:\n",
        "    num1, num2 = map(int, parts)\n",
        "    # Exit the loop if conversion is successful\n",
        "    break\n",
        "  except ValueError:\n",
        "    # Print error message if any two inputs is not a valid integer\n",
        "    print(\"Error: Both inputs must be valid integers.\")\n",
        "\n",
        "# Call the function 'find_smaller_number' and print the appropriate message\n",
        "if find_smaller_number(num1, num2) is None:\n",
        "    # Print message if both numbers are the same\n",
        "    print(f\"Both numbers are the same.\")\n",
        "elif find_smaller_number(num1, num2) == num1:\n",
        "    # Print 'num1' if it is smaller\n",
        "    print(f\"The 1st number {num1} is the smaller number.\")\n",
        "else:\n",
        "    # Print 'num2' if it is smaller\n",
        "    print(f\"The 2nd number {num2} is the smaller number.\")"
      ],
      "metadata": {
        "colab": {
          "base_uri": "https://localhost:8080/"
        },
        "id": "SlqqAa-eXCzg",
        "outputId": "55294cd0-30d6-4d9a-b33c-b39ceaa50782"
      },
      "execution_count": 12,
      "outputs": [
        {
          "output_type": "stream",
          "name": "stdout",
          "text": [
            "Please enter 2 numbers separated by a space ' ': 123\n",
            "Error: Please enter exactly two numbers.\n",
            "Please enter 2 numbers separated by a space ' ':  123\n",
            "Error: Please enter exactly two numbers.\n",
            "Please enter 2 numbers separated by a space ' ': 12 asd\n",
            "Error: Both inputs must be valid integers.\n",
            "Please enter 2 numbers separated by a space ' ': das 123\n",
            "Error: Both inputs must be valid integers.\n",
            "Please enter 2 numbers separated by a space ' ': 123 sdf 123\n",
            "Error: Please enter exactly two numbers.\n",
            "Please enter 2 numbers separated by a space ' ': asd asd asd\n",
            "Error: Please enter exactly two numbers.\n",
            "Please enter 2 numbers separated by a space ' ': ss\n",
            "Error: Please enter exactly two numbers.\n",
            "Please enter 2 numbers separated by a space ' ':  ss\n",
            "Error: Please enter exactly two numbers.\n",
            "Please enter 2 numbers separated by a space ' ': 2 2 2 2 2 2 2 2\n",
            "Error: Please enter exactly two numbers.\n",
            "Please enter 2 numbers separated by a space ' ': 2 2 \n",
            "Both numbers are the same.\n"
          ]
        }
      ]
    },
    {
      "cell_type": "markdown",
      "source": [
        "Task 5: Calculate Sum of a List\n",
        "* Develop a Python function called *calculate_sum* that takes a list of numbers as input and returns the sum of the numbers.\n",
        "\n",
        "(Hint: The function should take list data type as argument, not multiple integers)"
      ],
      "metadata": {
        "id": "7fWqBstTjFn5"
      }
    },
    {
      "cell_type": "code",
      "source": [
        "# Define a function named 'calculate_sum' that takes a list of numbers as input\n",
        "def calculate_sum(numbers):\n",
        "  # Return the sum of all numbers in the list\n",
        "  return sum(numbers)\n",
        "\n",
        "# Initialize an empty list to store numbers\n",
        "numbers_list = []\n",
        "\n",
        "# Loop until the user provides valid input\n",
        "while True:\n",
        "  # Get user input as a string\n",
        "  user_input = input(\"Please enter numbers separated by spaces ' ': \")\n",
        "  # Split the input into parts\n",
        "  parts = user_input.split()\n",
        "\n",
        "  # Check if at least two numbers were entered\n",
        "  if len(parts) < 2:\n",
        "    print(\"Error: Please enter at least two numbers.\")\n",
        "    continue\n",
        "\n",
        "  # Try to convert all inputs to integers\n",
        "  try:\n",
        "    numbers_list = list(map(int, parts))\n",
        "    # Exit the loop if all conversions are successful\n",
        "    break\n",
        "  except ValueError:\n",
        "    # Print error message if any input is not a valid integer\n",
        "    print(\"Error: All inputs must be valid integers.\")\n",
        "\n",
        "# Call the function 'calculate_sum' and print the result\n",
        "print(f\"The sum of the numbers is: {calculate_sum(numbers_list)}\")\n"
      ],
      "metadata": {
        "colab": {
          "base_uri": "https://localhost:8080/"
        },
        "id": "MK_XV06EkncN",
        "outputId": "36b7635f-97fa-4538-c88b-8504bbec0663"
      },
      "execution_count": 18,
      "outputs": [
        {
          "output_type": "stream",
          "name": "stdout",
          "text": [
            "Please enter numbers separated by spaces ' ': asd\n",
            "Error: Please enter at least two numbers.\n",
            "Please enter numbers separated by spaces ' ': 123 sad\n",
            "Error: All inputs must be valid integers.\n",
            "Please enter numbers separated by spaces ' ': asd               123\n",
            "Error: All inputs must be valid integers.\n",
            "Please enter numbers separated by spaces ' ': 123 asd                123\n",
            "Error: All inputs must be valid integers.\n",
            "Please enter numbers separated by spaces ' ': 123         123         asd\n",
            "Error: All inputs must be valid integers.\n",
            "Please enter numbers separated by spaces ' ': 11                11\n",
            "The sum of the numbers is: 22\n"
          ]
        }
      ]
    },
    {
      "cell_type": "markdown",
      "source": [
        "Task 6: Extract Prime Numbers\n",
        "* Write a Python function named *prime_numbers_in_list* that takes a list of numbers as input and returns a new list containing only the prime numbers from the original list.\n",
        "\n",
        "(Hint: A prime number is a positive integer with exactly two divisors: 1 and itself)"
      ],
      "metadata": {
        "id": "uyb4YxUupxJX"
      }
    },
    {
      "cell_type": "code",
      "source": [
        "# Define a function 'is_prime' to check if a number is prime\n",
        "def is_prime(num):\n",
        "    # Prime numbers must be greater than 1\n",
        "    if num <= 1:\n",
        "        return False\n",
        "    # Check numbers from 2 to the square root of 'num' to see if they divide evenly with no remainder\n",
        "    for i in range(2, int(num ** 0.5) + 1):\n",
        "        if num % i == 0:\n",
        "            return False\n",
        "    return True\n",
        "\n",
        "# Define a function named 'prime_numbers_in_list' that takes a list of numbers as input\n",
        "def prime_numbers_in_list(numbers):\n",
        "    # Create a new list containing only prime numbers from the input list\n",
        "    prime_list = []\n",
        "    # Go thru the input list one number at a time\n",
        "    for num in numbers:\n",
        "      # Call the function 'is_prime' to check for prime numbers\n",
        "      if is_prime(num):\n",
        "        # If it is a prime number append to the new list\n",
        "        prime_list.append(num)\n",
        "    return prime_list\n",
        "\n",
        "# Initialize an empty list to store valid numbers\n",
        "numbers_list = []\n",
        "\n",
        "# Loop until the user provides valid input\n",
        "while True:\n",
        "    # Get user input as a string\n",
        "    user_input = input(\"Please enter numbers separated by spaces ' ': \")\n",
        "    # Split the input into parts\n",
        "    parts = user_input.split()\n",
        "\n",
        "    # Check if at least one number was entered\n",
        "    if len(parts) == 0:\n",
        "        print(\"Error: Please enter at least one number.\")\n",
        "        continue\n",
        "\n",
        "    # Try to convert all inputs to integers\n",
        "    try:\n",
        "        numbers_list = list(map(int, parts))\n",
        "        # Exit the loop if all conversions are successful\n",
        "        break\n",
        "    except ValueError:\n",
        "        # Print error message if any input is not a valid integer\n",
        "        print(\"Error: All inputs must be valid integers.\")\n",
        "\n",
        "# Call the function 'prime_numbers_in_list' and print appropriate message\n",
        "if len(prime_numbers_in_list(numbers_list)) == 0:\n",
        "  # Print no prime number in the list if none found\n",
        "  print(\"There is no prime number in the list.\")\n",
        "else:\n",
        "  # Print a new list containing only the prime numbers\n",
        "  print(f\"The prime numbers in the list are: {prime_numbers_in_list(numbers_list)}\")\n"
      ],
      "metadata": {
        "colab": {
          "base_uri": "https://localhost:8080/"
        },
        "id": "YRhgQp4Zqp8Q",
        "outputId": "c2d7a52f-c8fd-4604-ed3e-e3233666479d"
      },
      "execution_count": 29,
      "outputs": [
        {
          "output_type": "stream",
          "name": "stdout",
          "text": [
            "Please enter numbers separated by spaces ' ': \n",
            "Error: Please enter at least one number.\n",
            "Please enter numbers separated by spaces ' ': asd\n",
            "Error: All inputs must be valid integers.\n",
            "Please enter numbers separated by spaces ' ': 123 asd\n",
            "Error: All inputs must be valid integers.\n",
            "Please enter numbers separated by spaces ' ': 123 321 435 asd\n",
            "Error: All inputs must be valid integers.\n",
            "Please enter numbers separated by spaces ' ': 1 2 456 9 6 433 6 78900\n",
            "The prime numbers in the list are: [2, 433]\n"
          ]
        }
      ]
    },
    {
      "cell_type": "markdown",
      "source": [
        "Task 7: Factorial Calculation\n",
        "* Create a Python function named *calculate_factorial* that takes a number as input and returns the factorial of that number.\n",
        "\n",
        "(Hint: The factorial of a number is the product of all positive integers less than or equal to that number.)"
      ],
      "metadata": {
        "id": "nm5d7xPG1Knz"
      }
    },
    {
      "cell_type": "code",
      "source": [
        "# Define a function named 'calculate_factorial' that takes a number as input\n",
        "def calculate_factorial(num):\n",
        "  # Initialize 'factorial' to 1\n",
        "  factorial = 1\n",
        "  # Multiply all numbers from 1 to 'num'\n",
        "  for i in range(1, num + 1):\n",
        "    factorial *= i\n",
        "  return factorial\n",
        "\n",
        "# Initialize variable to store the number\n",
        "num = None\n",
        "\n",
        "# Loop until the user provides valid input\n",
        "while True:\n",
        "  # Get user input as a string\n",
        "  user_input = input(\"Please enter a positive integer: \")\n",
        "\n",
        "  # Try to convert the input to an integer\n",
        "  try:\n",
        "    num = int(user_input)\n",
        "\n",
        "    # Check if the number is negative\n",
        "    if num < 0:\n",
        "      print(\"Error: Factorial is not defined for negative numbers.\")\n",
        "      continue\n",
        "\n",
        "    # Exit the loop if conversion is successful and number is valid\n",
        "    break\n",
        "  except ValueError:\n",
        "    # Print error message if input is not a valid integer\n",
        "    print(\"Error: Please enter a valid integer.\")\n",
        "\n",
        "# Call the function 'calculate_factorial' and print the returned result\n",
        "print(f\"The factorial of {num} is: {calculate_factorial(num)}\")"
      ],
      "metadata": {
        "colab": {
          "base_uri": "https://localhost:8080/"
        },
        "id": "AIheEQRq1cI6",
        "outputId": "8293e10b-4961-4a9d-a922-c9d194adf7c4"
      },
      "execution_count": 34,
      "outputs": [
        {
          "output_type": "stream",
          "name": "stdout",
          "text": [
            "Please enter a positive integer: \n",
            "Error: Please enter a valid integer.\n",
            "Please enter a positive integer: asd\n",
            "Error: Please enter a valid integer.\n",
            "Please enter a positive integer: -2342\n",
            "Error: Factorial is not defined for negative numbers.\n",
            "Please enter a positive integer: asd 123\n",
            "Error: Please enter a valid integer.\n",
            "Please enter a positive integer: 123 123\n",
            "Error: Please enter a valid integer.\n",
            "Please enter a positive integer: 99\n",
            "The factorial of 99 is: 933262154439441526816992388562667004907159682643816214685929638952175999932299156089414639761565182862536979208272237582511852109168640000000000000000000000\n"
          ]
        }
      ]
    }
  ]
}
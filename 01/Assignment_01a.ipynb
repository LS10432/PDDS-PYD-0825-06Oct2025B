{
  "nbformat": 4,
  "nbformat_minor": 0,
  "metadata": {
    "colab": {
      "provenance": [],
      "authorship_tag": "ABX9TyNZu+Q6jphpqPFvBBYNtCYx",
      "include_colab_link": true
    },
    "kernelspec": {
      "name": "python3",
      "display_name": "Python 3"
    },
    "language_info": {
      "name": "python"
    }
  },
  "cells": [
    {
      "cell_type": "markdown",
      "metadata": {
        "id": "view-in-github",
        "colab_type": "text"
      },
      "source": [
        "<a href=\"https://colab.research.google.com/github/LS10432/PDDS-PYD-0825-06Oct2025B/blob/main/01/Assignment_01a.ipynb\" target=\"_parent\"><img src=\"https://colab.research.google.com/assets/colab-badge.svg\" alt=\"Open In Colab\"/></a>"
      ]
    },
    {
      "cell_type": "markdown",
      "source": [
        "Task 1: Variable Manipulation\n",
        "*   Create two variables named *num1* and *num2* and assign them integer values of your choice.\n",
        "*   Calculate the sum of *num1* and *num2* and store the result in a variable called *sum_result*.\n",
        "*   Print the value of *sum_result*."
      ],
      "metadata": {
        "id": "3LO8iI3XAVaa"
      }
    },
    {
      "cell_type": "code",
      "source": [
        "num1 = 10\n",
        "num2 = 20\n",
        "sum_result = num1 + num2\n",
        "print(sum_result)"
      ],
      "metadata": {
        "colab": {
          "base_uri": "https://localhost:8080/"
        },
        "id": "HzpP8osRAt_y",
        "outputId": "c741be57-59e9-479e-fa28-637826278738"
      },
      "execution_count": null,
      "outputs": [
        {
          "output_type": "stream",
          "name": "stdout",
          "text": [
            "30\n"
          ]
        }
      ]
    },
    {
      "cell_type": "markdown",
      "source": [
        "Task 2: Operator Exploration\n",
        "*   Create a variable named *division* and assign it the division result of *num1* and *num2*.\n",
        "*   Create another variable named *remainder* and assign it the remainder when *num2* is divided by *num1*.\n",
        "*   Print the values of *division* and *remainder* in a single line with appropriate messages."
      ],
      "metadata": {
        "id": "l0fK6AhbBzPy"
      }
    },
    {
      "cell_type": "code",
      "source": [
        "num1 = 2\n",
        "num2 = 7\n",
        "division = num2 / num1\n",
        "remainder = num2 % num1\n",
        "print(f\"Division: {division}, Remainder: {remainder}\")"
      ],
      "metadata": {
        "colab": {
          "base_uri": "https://localhost:8080/"
        },
        "id": "X9CVurvBCSiY",
        "outputId": "5c4adba8-e5af-46e9-cc98-38ff38c76760"
      },
      "execution_count": null,
      "outputs": [
        {
          "output_type": "stream",
          "name": "stdout",
          "text": [
            "Division: 3.5, Remainder: 1\n"
          ]
        }
      ]
    },
    {
      "cell_type": "markdown",
      "source": [
        "Task 3: User Interaction\n",
        "*   Prompt the user to enter their name.\n",
        "*   Store the user's input in a variable called *user_name*.\n",
        "*   Print a welcome message to the user using their name."
      ],
      "metadata": {
        "id": "YPde4F00EPHN"
      }
    },
    {
      "cell_type": "code",
      "source": [
        "user_name = input(\"Please enter your name: \")\n",
        "print(f\"Welcome, {user_name}!\")"
      ],
      "metadata": {
        "colab": {
          "base_uri": "https://localhost:8080/"
        },
        "id": "Mpg4U-4fElIg",
        "outputId": "088e3627-8537-46ea-d94b-2f72f9096a08"
      },
      "execution_count": 1,
      "outputs": [
        {
          "output_type": "stream",
          "name": "stdout",
          "text": [
            "Please enter your name: Ad\n",
            "Welcome, Ad!\n"
          ]
        }
      ]
    },
    {
      "cell_type": "markdown",
      "source": [
        "Task 4: String Concatenation\n",
        "*   Create a variable called *greeting* and assign it the string \"Hello\".\n",
        "*   Create another variable called *message* and assign it the string \"Python Learner\".\n",
        "*   Concatenate *greeting* and *message* together and store the result in a variable called *full_message*.\n",
        "*   Print *full_message*.\n"
      ],
      "metadata": {
        "id": "OqhPIkwgFAds"
      }
    },
    {
      "cell_type": "code",
      "source": [
        "greeting = \"Hello\"\n",
        "message = \"Python Learner\"\n",
        "full_message = greeting + \" \" + message\n",
        "print(full_message)"
      ],
      "metadata": {
        "colab": {
          "base_uri": "https://localhost:8080/"
        },
        "id": "q1-9Vd2iFgX2",
        "outputId": "77d5cbec-d7d1-48e8-e390-1142a38c439c"
      },
      "execution_count": 2,
      "outputs": [
        {
          "output_type": "stream",
          "name": "stdout",
          "text": [
            "Hello Python Learner\n"
          ]
        }
      ]
    },
    {
      "cell_type": "markdown",
      "source": [
        "Task 5: Input and Type Conversion\n",
        "*   Prompt the user to enter a number.\n",
        "*   Store the user's input in a variable called *user_input*.\n",
        "*   Print the data type of *user_input*.\n",
        "*   Convert *user_input* to a integer and store it in a variable called *user_integer*.\n",
        "*   Print the data type of *user_integer*."
      ],
      "metadata": {
        "id": "PNDou4JlFzBj"
      }
    },
    {
      "cell_type": "code",
      "source": [
        "user_input = input(\"Please enter a number: \")\n",
        "print(f\"The data type of user_input is: {type(user_input)}\")\n",
        "user_integer = int(user_input)\n",
        "print(f\"The data type of user_integer is: {type(user_integer)}\")"
      ],
      "metadata": {
        "colab": {
          "base_uri": "https://localhost:8080/"
        },
        "id": "EAUArhMQGGDy",
        "outputId": "ee5bd443-327b-414f-a700-c7e1bb074d95"
      },
      "execution_count": 3,
      "outputs": [
        {
          "output_type": "stream",
          "name": "stdout",
          "text": [
            "Please enter a number: 12\n",
            "The data type of user_input is: <class 'str'>\n",
            "The data type of user_integer is: <class 'int'>\n"
          ]
        }
      ]
    },
    {
      "cell_type": "markdown",
      "source": [
        "Task 6: Exponential Calculation\n",
        "*   Calculate the square of *num1* and store the result in a variable called *square_result*.\n",
        "*   Calculate the cube of *num2* and store the result in a variable called *cube_result*.\n",
        "*   Print both *square_result* and *cube_result* with appropriate messages."
      ],
      "metadata": {
        "id": "QW3dQmvYGs7S"
      }
    },
    {
      "cell_type": "code",
      "source": [
        "num1 = 3  # Define num1\n",
        "num2 = 2  # Define num2\n",
        "square_result = num1 ** 2\n",
        "cube_result = num2 ** 3\n",
        "print(f\"Square of num1: {square_result}\")\n",
        "print(f\"Cube of num2: {cube_result}\")"
      ],
      "metadata": {
        "colab": {
          "base_uri": "https://localhost:8080/"
        },
        "id": "M3KUbCdFG7L_",
        "outputId": "480d8c3c-e8d6-4170-da48-fcb54a73e3b1"
      },
      "execution_count": 8,
      "outputs": [
        {
          "output_type": "stream",
          "name": "stdout",
          "text": [
            "Square of num1: 9\n",
            "Cube of num2: 8\n"
          ]
        }
      ]
    },
    {
      "cell_type": "markdown",
      "source": [
        "Task 7: Temperature Conversion\n",
        "*   Prompt the user to enter a temperature in Celsius.\n",
        "*   Convert the Celsius temperature to Fahrenheit using the formula: Fahrenheit = (Celsius * 9/5) + 32.\n",
        "*   Store the result in a variable called *temperature_f*.\n",
        "*   Print the value of *temperature_f*."
      ],
      "metadata": {
        "id": "Gok1BOo9HlXv"
      }
    },
    {
      "cell_type": "code",
      "source": [
        "celsius = float(input(\"Enter temperature in Celsius: \"))\n",
        "temperature_f = (celsius * 9/5) + 32\n",
        "print(f\"Temperature in Fahrenheit: {temperature_f}\")"
      ],
      "metadata": {
        "colab": {
          "base_uri": "https://localhost:8080/"
        },
        "id": "osKhWce0HtaR",
        "outputId": "98bacbea-7b9f-4120-b81d-fb126d7ac799"
      },
      "execution_count": 9,
      "outputs": [
        {
          "output_type": "stream",
          "name": "stdout",
          "text": [
            "Enter temperature in Celsius: 37.8\n",
            "Temperature in Fahrenheit: 100.03999999999999\n"
          ]
        }
      ]
    }
  ]
}
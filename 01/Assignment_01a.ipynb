{
  "nbformat": 4,
  "nbformat_minor": 0,
  "metadata": {
    "colab": {
      "provenance": [],
      "toc_visible": true,
      "authorship_tag": "ABX9TyNkb3uDGhkWz12oyAWqR5uq",
      "include_colab_link": true
    },
    "kernelspec": {
      "name": "python3",
      "display_name": "Python 3"
    },
    "language_info": {
      "name": "python"
    }
  },
  "cells": [
    {
      "cell_type": "markdown",
      "metadata": {
        "id": "view-in-github",
        "colab_type": "text"
      },
      "source": [
        "<a href=\"https://colab.research.google.com/github/LS10432/PDDS-PYD-0825-06Oct2025B/blob/main/01/Assignment_01a.ipynb\" target=\"_parent\"><img src=\"https://colab.research.google.com/assets/colab-badge.svg\" alt=\"Open In Colab\"/></a>"
      ]
    },
    {
      "cell_type": "markdown",
      "source": [
        "### Task 1: Variable Manipulation\n",
        "*   Create two variables named *num1* and *num2* and assign them integer values of your choice.\n",
        "*   Calculate the sum of *num1* and *num2* and store the result in a variable called *sum_result*.\n",
        "*   Print the value of *sum_result*."
      ],
      "metadata": {
        "id": "3LO8iI3XAVaa"
      }
    },
    {
      "cell_type": "code",
      "source": [
        "# Assign the value 10 to the variable 'num1'\n",
        "num1 = 10\n",
        "\n",
        "# Assign the value 20 to the variable 'num2'\n",
        "num2 = 20\n",
        "\n",
        "# Add the values stored in 'num1' and 'num2', store the result in 'sum_result'\n",
        "sum_result = num1 + num2\n",
        "\n",
        "# Print the value stored in 'sum_result' on the screen\n",
        "print(sum_result)"
      ],
      "metadata": {
        "colab": {
          "base_uri": "https://localhost:8080/"
        },
        "id": "HzpP8osRAt_y",
        "outputId": "7411ab62-2880-45fa-c390-ef0485e76423"
      },
      "execution_count": null,
      "outputs": [
        {
          "output_type": "stream",
          "name": "stdout",
          "text": [
            "30\n"
          ]
        }
      ]
    },
    {
      "cell_type": "markdown",
      "source": [
        "### Task 2: Operator Exploration\n",
        "*   Create a variable named *division* and assign it the division result of *num1* and *num2*.\n",
        "*   Create another variable named *remainder* and assign it the remainder when *num2* is divided by *num1*.\n",
        "*   Print the values of *division* and *remainder* in a single line with appropriate messages."
      ],
      "metadata": {
        "id": "l0fK6AhbBzPy"
      }
    },
    {
      "cell_type": "code",
      "source": [
        "# Assign the value 3 to the variable 'num1'\n",
        "num1 = 3\n",
        "\n",
        "# Assign the value 8 to the variable 'num2'\n",
        "num2 = 8\n",
        "\n",
        "# Divide 'num2' by 'num1' and store the result (as a float) in 'division'\n",
        "division = num2 / num1\n",
        "\n",
        "# Find the remainder when 'num2' is divided by 'num1' and store it in 'remainder'\n",
        "remainder = num2 % num1\n",
        "\n",
        "# Print the value of 'division'\n",
        "print(f\"Division: {division}\")\n",
        "\n",
        "# Print the value of 'remainder'\n",
        "print(f\"Remainder: {remainder}\")"
      ],
      "metadata": {
        "colab": {
          "base_uri": "https://localhost:8080/"
        },
        "id": "X9CVurvBCSiY",
        "outputId": "6990a4be-f0ff-4ce2-b80c-ad4e168c200b"
      },
      "execution_count": null,
      "outputs": [
        {
          "output_type": "stream",
          "name": "stdout",
          "text": [
            "Division: 2.6666666666666665\n",
            "Remainder: 2\n"
          ]
        }
      ]
    },
    {
      "cell_type": "markdown",
      "source": [
        "### Task 3: User Interaction\n",
        "*   Prompt the user to enter their name.\n",
        "*   Store the user's input in a variable called *user_name*.\n",
        "*   Print a welcome message to the user using their name."
      ],
      "metadata": {
        "id": "YPde4F00EPHN"
      }
    },
    {
      "cell_type": "code",
      "source": [
        "# Display the prompt \"Please enter your name: \" and wait for the user input, storing user's input in 'user_name'\n",
        "user_name = input(\"Please enter your name: \")\n",
        "\n",
        "# Print the text \"Welcome,\" followed by the contents of 'user_name'\n",
        "print(f\"Welcome, {user_name}!\")"
      ],
      "metadata": {
        "colab": {
          "base_uri": "https://localhost:8080/"
        },
        "id": "Mpg4U-4fElIg",
        "outputId": "7ac6fd05-e7c8-4707-eec7-8f1abfbe587d"
      },
      "execution_count": null,
      "outputs": [
        {
          "output_type": "stream",
          "name": "stdout",
          "text": [
            "Please enter your name: Az\n",
            "Welcome, Az!\n"
          ]
        }
      ]
    },
    {
      "cell_type": "markdown",
      "source": [
        "### Task 4: String Concatenation\n",
        "*   Create a variable called *greeting* and assign it the string \"Hello\".\n",
        "*   Create another variable called *message* and assign it the string \"Python Learner\".\n",
        "*   Concatenate *greeting* and *message* together and store the result in a variable called *full_message*.\n",
        "*   Print *full_message*.\n"
      ],
      "metadata": {
        "id": "OqhPIkwgFAds"
      }
    },
    {
      "cell_type": "code",
      "source": [
        "# Store the string \"Hello\" in the variable 'greeting'\n",
        "greeting = \"Hello\"\n",
        "\n",
        "# Store the string \"Python Learner\" in the variable 'message'\n",
        "message = \"Python Learner\"\n",
        "\n",
        "# Concatenate 'greeting', a space, and 'message' into 'full_message'\n",
        "full_message = greeting + \" \" + message\n",
        "\n",
        "# Print the value of 'full_message'\n",
        "print(full_message)"
      ],
      "metadata": {
        "colab": {
          "base_uri": "https://localhost:8080/"
        },
        "id": "q1-9Vd2iFgX2",
        "outputId": "78686c19-0320-41dd-968b-b3b56c408b1a"
      },
      "execution_count": null,
      "outputs": [
        {
          "output_type": "stream",
          "name": "stdout",
          "text": [
            "Hello Python Learner\n"
          ]
        }
      ]
    },
    {
      "cell_type": "markdown",
      "source": [
        "### Task 5: Input and Type Conversion\n",
        "*   Prompt the user to enter a number.\n",
        "*   Store the user's input in a variable called *user_input*.\n",
        "*   Print the data type of *user_input*.\n",
        "*   Convert *user_input* to a integer and store it in a variable called *user_integer*.\n",
        "*   Print the data type of *user_integer*."
      ],
      "metadata": {
        "id": "PNDou4JlFzBj"
      }
    },
    {
      "cell_type": "code",
      "source": [
        "# Prompt the user to enter a number and store the input as a string in 'user_input'\n",
        "user_input = input(\"Please enter a number: \")\n",
        "\n",
        "# Print the data type of 'user_input'\n",
        "print(f\"The data type of user_input is: {type(user_input)}\")\n",
        "\n",
        "# Convert 'user_input' to an integer and store in 'user_integer'\n",
        "user_integer = int(user_input)\n",
        "\n",
        "# Print the data type of 'user_integer'\n",
        "print(f\"The data type of user_integer is: {type(user_integer)}\")"
      ],
      "metadata": {
        "colab": {
          "base_uri": "https://localhost:8080/"
        },
        "id": "EAUArhMQGGDy",
        "outputId": "10d1a55d-b1b0-41a2-e396-b0ee9f1d95fa"
      },
      "execution_count": null,
      "outputs": [
        {
          "output_type": "stream",
          "name": "stdout",
          "text": [
            "Please enter a number: 33\n",
            "The data type of user_input is: <class 'str'>\n",
            "The data type of user_integer is: <class 'int'>\n"
          ]
        }
      ]
    },
    {
      "cell_type": "markdown",
      "source": [
        "### Task 6: Exponential Calculation\n",
        "*   Calculate the square of *num1* and store the result in a variable called *square_result*.\n",
        "*   Calculate the cube of *num2* and store the result in a variable called *cube_result*.\n",
        "*   Print both *square_result* and *cube_result* with appropriate messages."
      ],
      "metadata": {
        "id": "QW3dQmvYGs7S"
      }
    },
    {
      "cell_type": "code",
      "source": [
        "# Assign the value 3 to 'num1'\n",
        "num1 = 3\n",
        "\n",
        "# Assign the value 2 to 'num2'\n",
        "num2 = 2\n",
        "\n",
        "# Calculate 'num1' to the power of 2 and store in 'square_result'\n",
        "square_result = num1 ** 2\n",
        "\n",
        "# Calculate 'num2' to the power of 3 and store in 'cube_result'\n",
        "cube_result = num2 ** 3\n",
        "\n",
        "# Print the value of 'square_result'\n",
        "print(f\"Square of num1: {square_result}\")\n",
        "\n",
        "# Print the value of 'cube_result'\n",
        "print(f\"Cube of num2: {cube_result}\")\n"
      ],
      "metadata": {
        "colab": {
          "base_uri": "https://localhost:8080/"
        },
        "id": "M3KUbCdFG7L_",
        "outputId": "1da1b758-96ad-4131-df9b-f45059775d3f"
      },
      "execution_count": null,
      "outputs": [
        {
          "output_type": "stream",
          "name": "stdout",
          "text": [
            "Square of num1: 9\n",
            "Cube of num2: 8\n"
          ]
        }
      ]
    },
    {
      "cell_type": "markdown",
      "source": [
        "### Task 7: Temperature Conversion\n",
        "*   Prompt the user to enter a temperature in Celsius.\n",
        "*   Convert the Celsius temperature to Fahrenheit using the formula: Fahrenheit = (Celsius * 9/5) + 32.\n",
        "*   Store the result in a variable called *temperature_f*.\n",
        "*   Print the value of *temperature_f*."
      ],
      "metadata": {
        "id": "Gok1BOo9HlXv"
      }
    },
    {
      "cell_type": "code",
      "source": [
        "# Prompt the user to enter a temperature in Celsius, convert it to float, and store in 'celsius'\n",
        "celsius = float(input(\"Enter temperature in Celsius: \"))\n",
        "\n",
        "# Convert Celsius to Fahrenheit and store the result in 'temperature_f'\n",
        "temperature_f = (celsius * 9/5) + 32\n",
        "\n",
        "# Print the value of 'temperature_f'\n",
        "print(f\"Temperature in Fahrenheit: {temperature_f}\")"
      ],
      "metadata": {
        "colab": {
          "base_uri": "https://localhost:8080/"
        },
        "id": "osKhWce0HtaR",
        "outputId": "7502a969-8679-42c3-de81-da956798a4e7"
      },
      "execution_count": null,
      "outputs": [
        {
          "output_type": "stream",
          "name": "stdout",
          "text": [
            "Enter temperature in Celsius: 37.5\n",
            "Temperature in Fahrenheit: 99.5\n"
          ]
        }
      ]
    }
  ]
}
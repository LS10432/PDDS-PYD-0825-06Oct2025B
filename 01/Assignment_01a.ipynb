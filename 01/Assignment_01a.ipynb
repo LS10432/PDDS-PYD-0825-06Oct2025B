{
  "nbformat": 4,
  "nbformat_minor": 0,
  "metadata": {
    "colab": {
      "provenance": [],
      "toc_visible": true,
      "authorship_tag": "ABX9TyO4b9J9boWBgCXIlV141bp6",
      "include_colab_link": true
    },
    "kernelspec": {
      "name": "python3",
      "display_name": "Python 3"
    },
    "language_info": {
      "name": "python"
    }
  },
  "cells": [
    {
      "cell_type": "markdown",
      "metadata": {
        "id": "view-in-github",
        "colab_type": "text"
      },
      "source": [
        "<a href=\"https://colab.research.google.com/github/LS10432/PDDS-PYD-0825-06Oct2025B/blob/main/01/Assignment_01a.ipynb\" target=\"_parent\"><img src=\"https://colab.research.google.com/assets/colab-badge.svg\" alt=\"Open In Colab\"/></a>"
      ]
    },
    {
      "cell_type": "markdown",
      "source": [
        "### Task 1: Variable Manipulation\n",
        "*   Create two variables named *num1* and *num2* and assign them integer values of your choice.\n",
        "*   Calculate the sum of *num1* and *num2* and store the result in a variable called *sum_result*.\n",
        "*   Print the value of *sum_result*."
      ],
      "metadata": {
        "id": "3LO8iI3XAVaa"
      }
    },
    {
      "cell_type": "code",
      "source": [
        "# Assign the value 10 to the variable 'num1'\n",
        "num1 = 10\n",
        "\n",
        "# Assign the value 20 to the variable 'num2'\n",
        "num2 = 20\n",
        "\n",
        "# Add the values stored in 'num1' and 'num2', store the result in 'sum_result'\n",
        "sum_result = num1 + num2\n",
        "\n",
        "# Print the value stored in 'sum_result' on the screen\n",
        "print(f\"The sum of two numbers: {sum_result}\")"
      ],
      "metadata": {
        "colab": {
          "base_uri": "https://localhost:8080/"
        },
        "id": "HzpP8osRAt_y",
        "outputId": "fc8d812a-f682-4089-c7ed-6db81f6e8d3b"
      },
      "execution_count": 17,
      "outputs": [
        {
          "output_type": "stream",
          "name": "stdout",
          "text": [
            "The sum of two numbers: 30\n"
          ]
        }
      ]
    },
    {
      "cell_type": "markdown",
      "source": [
        "### Task 2: Operator Exploration\n",
        "*   Create a variable named *division* and assign it the division result of *num1* and *num2*.\n",
        "*   Create another variable named *remainder* and assign it the remainder when *num2* is divided by *num1*.\n",
        "*   Print the values of *division* and *remainder* in a single line with appropriate messages."
      ],
      "metadata": {
        "id": "l0fK6AhbBzPy"
      }
    },
    {
      "cell_type": "code",
      "source": [
        "# Using the variables from previous Task 1, Divide 'num1' by 'num2' and store the result in 'division'\n",
        "division = num1 / num2\n",
        "\n",
        "# Using the variables from previous Task 1, Find the remainder when 'num2' is divided by 'num1' and store it in 'remainder'\n",
        "remainder = num2 % num1\n",
        "\n",
        "# Print the value of 'division'\n",
        "print(f\"Division of num1/num2: {division}\")\n",
        "\n",
        "# Print the value of 'remainder'\n",
        "print(f\"Remainder of num2/num1: {remainder}\")"
      ],
      "metadata": {
        "colab": {
          "base_uri": "https://localhost:8080/"
        },
        "id": "X9CVurvBCSiY",
        "outputId": "294e33f3-89ee-4b75-c8ea-68f7b39c2924"
      },
      "execution_count": 18,
      "outputs": [
        {
          "output_type": "stream",
          "name": "stdout",
          "text": [
            "Division of num1/num2: 0.5\n",
            "Remainder of num2/num1: 0\n"
          ]
        }
      ]
    },
    {
      "cell_type": "markdown",
      "source": [
        "### Task 3: User Interaction\n",
        "*   Prompt the user to enter their name.\n",
        "*   Store the user's input in a variable called *user_name*.\n",
        "*   Print a welcome message to the user using their name."
      ],
      "metadata": {
        "id": "YPde4F00EPHN"
      }
    },
    {
      "cell_type": "code",
      "source": [
        "# Display the prompt \"Please enter your name: \" and wait for the user input, storing user's input in 'user_name'\n",
        "user_name = input(\"Please enter your name: \")\n",
        "\n",
        "# Print the text \"Welcome,\" followed by the contents of 'user_name'\n",
        "print(f\"Welcome, {user_name}!\")"
      ],
      "metadata": {
        "colab": {
          "base_uri": "https://localhost:8080/"
        },
        "id": "Mpg4U-4fElIg",
        "outputId": "2893e1f1-cb47-49cd-f450-734753ea856a"
      },
      "execution_count": 19,
      "outputs": [
        {
          "output_type": "stream",
          "name": "stdout",
          "text": [
            "Please enter your name: Ad\n",
            "Welcome, Ad!\n"
          ]
        }
      ]
    },
    {
      "cell_type": "markdown",
      "source": [
        "### Task 4: String Concatenation\n",
        "*   Create a variable called *greeting* and assign it the string \"Hello\".\n",
        "*   Create another variable called *message* and assign it the string \"Python Learner\".\n",
        "*   Concatenate *greeting* and *message* together and store the result in a variable called *full_message*.\n",
        "*   Print *full_message*.\n"
      ],
      "metadata": {
        "id": "OqhPIkwgFAds"
      }
    },
    {
      "cell_type": "code",
      "source": [
        "# Store the string \"Hello\" in the variable 'greeting'\n",
        "greeting = \"Hello\"\n",
        "\n",
        "# Store the string \"Python Learner\" in the variable 'message'\n",
        "message = \"Python Learner\"\n",
        "\n",
        "# Concatenate 'greeting', a space, and 'message' into 'full_message'\n",
        "full_message = greeting + \" \" + message\n",
        "\n",
        "# Print the value of 'full_message'\n",
        "print(full_message)"
      ],
      "metadata": {
        "colab": {
          "base_uri": "https://localhost:8080/"
        },
        "id": "q1-9Vd2iFgX2",
        "outputId": "8a552589-14ab-454a-9df5-1af5e3a36a26"
      },
      "execution_count": 20,
      "outputs": [
        {
          "output_type": "stream",
          "name": "stdout",
          "text": [
            "Hello Python Learner\n"
          ]
        }
      ]
    },
    {
      "cell_type": "markdown",
      "source": [
        "### Task 5: Input and Type Conversion\n",
        "*   Prompt the user to enter a number.\n",
        "*   Store the user's input in a variable called *user_input*.\n",
        "*   Print the data type of *user_input*.\n",
        "*   Convert *user_input* to a integer and store it in a variable called *user_integer*.\n",
        "*   Print the data type of *user_integer*."
      ],
      "metadata": {
        "id": "PNDou4JlFzBj"
      }
    },
    {
      "cell_type": "code",
      "source": [
        "# Prompt the user to enter a number and store the input as a string in 'user_input'\n",
        "user_input = input(\"Please enter a number: \")\n",
        "\n",
        "# Print the data type of 'user_input'\n",
        "print(f\"The data type of user_input is: {type(user_input)}\")\n",
        "\n",
        "# Convert 'user_input' to an integer and store in 'user_integer'\n",
        "user_integer = int(user_input)\n",
        "\n",
        "# Print the data type of 'user_integer'\n",
        "print(f\"The data type of user_integer is: {type(user_integer)}\")"
      ],
      "metadata": {
        "colab": {
          "base_uri": "https://localhost:8080/"
        },
        "id": "EAUArhMQGGDy",
        "outputId": "102f0b9e-7ff8-4a1e-df09-dbee0b8def8f"
      },
      "execution_count": 21,
      "outputs": [
        {
          "output_type": "stream",
          "name": "stdout",
          "text": [
            "Please enter a number: 12\n",
            "The data type of user_input is: <class 'str'>\n",
            "The data type of user_integer is: <class 'int'>\n"
          ]
        }
      ]
    },
    {
      "cell_type": "markdown",
      "source": [
        "### Task 6: Exponential Calculation\n",
        "*   Calculate the square of *num1* and store the result in a variable called *square_result*.\n",
        "*   Calculate the cube of *num2* and store the result in a variable called *cube_result*.\n",
        "*   Print both *square_result* and *cube_result* with appropriate messages."
      ],
      "metadata": {
        "id": "QW3dQmvYGs7S"
      }
    },
    {
      "cell_type": "code",
      "source": [
        "# Using the variables from previous Task 1, Calculate 'num1' to the power of 2 and store in 'square_result'\n",
        "square_result = num1 ** 2\n",
        "\n",
        "# Using the variables from previous Task 1, Calculate 'num2' to the power of 3 and store in 'cube_result'\n",
        "cube_result = num2 ** 3\n",
        "\n",
        "# Print the value of 'square_result'\n",
        "print(f\"Square of num1: {square_result}\")\n",
        "\n",
        "# Print the value of 'cube_result'\n",
        "print(f\"Cube of num2: {cube_result}\")\n"
      ],
      "metadata": {
        "colab": {
          "base_uri": "https://localhost:8080/"
        },
        "id": "M3KUbCdFG7L_",
        "outputId": "519a6e58-100d-4438-950d-6607f2839a32"
      },
      "execution_count": 22,
      "outputs": [
        {
          "output_type": "stream",
          "name": "stdout",
          "text": [
            "Square of num1: 100\n",
            "Cube of num2: 8000\n"
          ]
        }
      ]
    },
    {
      "cell_type": "markdown",
      "source": [
        "### Task 7: Temperature Conversion\n",
        "*   Prompt the user to enter a temperature in Celsius.\n",
        "*   Convert the Celsius temperature to Fahrenheit using the formula: Fahrenheit = (Celsius * 9/5) + 32.\n",
        "*   Store the result in a variable called *temperature_f*.\n",
        "*   Print the value of *temperature_f*."
      ],
      "metadata": {
        "id": "Gok1BOo9HlXv"
      }
    },
    {
      "cell_type": "code",
      "source": [
        "# Prompt the user to enter a temperature in Celsius, convert it to float, and store in 'celsius'\n",
        "celsius = float(input(\"Enter temperature in Celsius: \"))\n",
        "\n",
        "# Convert Celsius to Fahrenheit and store the result in 'temperature_f'\n",
        "temperature_f = (celsius * 9/5) + 32\n",
        "\n",
        "# Print the value of 'temperature_f'\n",
        "print(f\"Temperature in Fahrenheit: {temperature_f}\")"
      ],
      "metadata": {
        "colab": {
          "base_uri": "https://localhost:8080/"
        },
        "id": "osKhWce0HtaR",
        "outputId": "1ed60d4b-5edd-4a40-9c23-ff95e443d3cf"
      },
      "execution_count": 23,
      "outputs": [
        {
          "output_type": "stream",
          "name": "stdout",
          "text": [
            "Enter temperature in Celsius: 37.5\n",
            "Temperature in Fahrenheit: 99.5\n"
          ]
        }
      ]
    }
  ]
}
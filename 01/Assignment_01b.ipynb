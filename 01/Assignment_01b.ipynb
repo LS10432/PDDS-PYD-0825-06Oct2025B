{
  "nbformat": 4,
  "nbformat_minor": 0,
  "metadata": {
    "colab": {
      "provenance": [],
      "toc_visible": true,
      "authorship_tag": "ABX9TyP7dXFVZbhFpnsNgFblz4Oe",
      "include_colab_link": true
    },
    "kernelspec": {
      "name": "python3",
      "display_name": "Python 3"
    },
    "language_info": {
      "name": "python"
    }
  },
  "cells": [
    {
      "cell_type": "markdown",
      "metadata": {
        "id": "view-in-github",
        "colab_type": "text"
      },
      "source": [
        "<a href=\"https://colab.research.google.com/github/LS10432/PDDS-PYD-0825-06Oct2025B/blob/main/01/Assignment_01b.ipynb\" target=\"_parent\"><img src=\"https://colab.research.google.com/assets/colab-badge.svg\" alt=\"Open In Colab\"/></a>"
      ]
    },
    {
      "cell_type": "markdown",
      "source": [
        "### Task 1: Double the Number\n",
        "*   Write a Python function named *double_number* that takes a number as input and returns the double of the number."
      ],
      "metadata": {
        "id": "tYeGG-JfPH0a"
      }
    },
    {
      "cell_type": "code",
      "source": [
        "# Define a function 'double_number' that doubles a number\n",
        "def double_number(num):\n",
        "  # Return the double of 'num'\n",
        "  return num * 2\n",
        "\n",
        "# Loop until the user provides a valid integer input\n",
        "while True:\n",
        "  # Get user input as a string\n",
        "  user_input = input(\"Please enter a number: \")\n",
        "\n",
        "  # Try to convert the input to an integer\n",
        "  try:\n",
        "    num = int(user_input)\n",
        "    # Exit the loop if conversion is successful\n",
        "    break\n",
        "  except ValueError:\n",
        "    # Print error message if input is not a valid integer\n",
        "    print(\"Error: Please enter a valid integer.\")\n",
        "\n",
        "# Call the function 'double_number' and print the returned result\n",
        "print(f\"The double of the input number {num} is: {double_number(num)}\")"
      ],
      "metadata": {
        "colab": {
          "base_uri": "https://localhost:8080/"
        },
        "id": "x8RbViMMPMwB",
        "outputId": "1887e351-2b17-42d8-da59-42c151d1030b"
      },
      "execution_count": 3,
      "outputs": [
        {
          "output_type": "stream",
          "name": "stdout",
          "text": [
            "Please enter a number: 12\n",
            "The double of the input number 12 is: 24\n"
          ]
        }
      ]
    },
    {
      "cell_type": "markdown",
      "source": [
        "### Task 2: Count Characters\n",
        "* Create a Python function named *count_characters* that takes a string as input and returns the number of characters in the string.\n",
        "\n",
        "(Hint: len() built-in function will return length of characters)"
      ],
      "metadata": {
        "id": "vmqN0VxpRv5I"
      }
    },
    {
      "cell_type": "code",
      "source": [
        "# Define a function 'count_characters' that counts the character of a string\n",
        "def count_characters(input_string):\n",
        "  # Return the number of characters of 'input_string'\n",
        "  return len(input_string)\n",
        "\n",
        "# Get user input as a string\n",
        "input_string = input(\"Please enter a string: \")\n",
        "\n",
        "# Call the function 'count_characters' and print the returned result\n",
        "print(f\"The number of characters in the string is: {count_characters(input_string)}\")"
      ],
      "metadata": {
        "colab": {
          "base_uri": "https://localhost:8080/"
        },
        "id": "-aB3vV7CR5E8",
        "outputId": "14b694e5-db1a-4836-d16b-5c003644ad79"
      },
      "execution_count": 4,
      "outputs": [
        {
          "output_type": "stream",
          "name": "stdout",
          "text": [
            "Please enter a string: odvieb398dasbch\n",
            "The number of characters in the string is: 15\n"
          ]
        }
      ]
    },
    {
      "cell_type": "markdown",
      "source": [
        "### Task 3: Check for Evenness\n",
        "* Define a Python function called *is_even* that takes a number as input and returns True if the number is even, or False otherwise."
      ],
      "metadata": {
        "id": "yw8ysu5zUSBE"
      }
    },
    {
      "cell_type": "code",
      "source": [
        "# Define a function named 'is_even' that takes one parameter 'num'\n",
        "def is_even(num):\n",
        "  # Return True if 'num' is divisible by 2, else False\n",
        "  return num % 2 == 0\n",
        "\n",
        "# Loop until the user provides a valid integer input\n",
        "while True:\n",
        "  # Get user input as a string\n",
        "  user_input = input(\"Please enter a number: \")\n",
        "\n",
        "  # Try to convert the input to an integer\n",
        "  try:\n",
        "    num = int(user_input)\n",
        "    # Exit the loop if conversion is successful\n",
        "    break\n",
        "  except ValueError:\n",
        "    # Print error message if input is not a valid integer\n",
        "    print(\"Error: Please enter a valid integer.\")\n",
        "\n",
        "# Call the function 'is_even' and print 'True' if the number is even or 'False' if the number is odd\n",
        "if is_even(num):\n",
        "  print(f\"{is_even(num)}, the number is even.\")\n",
        "else:\n",
        "  print(f\"{is_even(num)}, the number is odd.\")\n"
      ],
      "metadata": {
        "colab": {
          "base_uri": "https://localhost:8080/"
        },
        "id": "JlNNNA3fUv1g",
        "outputId": "879e9f25-3080-4180-a300-2e29efc68e2b"
      },
      "execution_count": 5,
      "outputs": [
        {
          "output_type": "stream",
          "name": "stdout",
          "text": [
            "Please enter a number: 21\n",
            "False, the number is odd.\n"
          ]
        }
      ]
    },
    {
      "cell_type": "markdown",
      "source": [
        "### Task 4: Find the Smaller Number\n",
        "* Implement a Python function named *find_smaller_number* that takes two numbers as input and returns the smaller number.\n",
        "\n",
        "(Hint: Remember that you should not use the min() function. Instead, you can utilize if-else statements to compare the two numbers and determine the smaller one.)"
      ],
      "metadata": {
        "id": "zauCNrX8WkER"
      }
    },
    {
      "cell_type": "code",
      "source": [
        "# Define a function named 'find_smaller_number' that takes two parameters 'num1' and 'num2'\n",
        "def find_smaller_number(num1, num2):\n",
        "  # Compare num1 and num2 using if-else to find the smaller number\n",
        "  if num1 < num2:\n",
        "    return num1\n",
        "  elif num2 < num1:\n",
        "    return num2\n",
        "  else:\n",
        "    # Return 'None' if both numbers are the same\n",
        "    return None\n",
        "\n",
        "# Loop until valid input of exactly two numbers is received\n",
        "while True:\n",
        "  # Get user input as a string\n",
        "  user_input = input(\"Please enter 2 numbers separated by a space ' ': \")\n",
        "  # Split into 2 parts\n",
        "  parts = user_input.split()\n",
        "\n",
        "  # Check if exactly two inputs were given\n",
        "  if len(parts) != 2:\n",
        "    # Print a message if not exactly two inputs were given\n",
        "    print(\"Error: Please enter exactly two numbers.\")\n",
        "    continue\n",
        "\n",
        "  # Try to convert both inputs to integers\n",
        "  try:\n",
        "    num1, num2 = map(int, parts)\n",
        "    # Exit the loop if conversion is successful\n",
        "    break\n",
        "  except ValueError:\n",
        "    # Print error message if any two inputs is not a valid integer\n",
        "    print(\"Error: Both inputs must be valid integers.\")\n",
        "\n",
        "# Call the function 'find_smaller_number' and print the appropriate message\n",
        "if find_smaller_number(num1, num2) is None:\n",
        "    # Print message if both numbers are the same\n",
        "    print(f\"Both numbers are the same.\")\n",
        "elif find_smaller_number(num1, num2) == num1:\n",
        "    # Print 'num1' if it is smaller\n",
        "    print(f\"The 1st number {num1} is the smaller number.\")\n",
        "else:\n",
        "    # Print 'num2' if it is smaller\n",
        "    print(f\"The 2nd number {num2} is the smaller number.\")"
      ],
      "metadata": {
        "colab": {
          "base_uri": "https://localhost:8080/"
        },
        "id": "SlqqAa-eXCzg",
        "outputId": "1a2129e5-394c-4649-e56a-8b8c9cfbfc0d"
      },
      "execution_count": 6,
      "outputs": [
        {
          "output_type": "stream",
          "name": "stdout",
          "text": [
            "Please enter 2 numbers separated by a space ' ': 2163 9856\n",
            "The 1st number 2163 is the smaller number.\n"
          ]
        }
      ]
    },
    {
      "cell_type": "markdown",
      "source": [
        "### Task 5: Calculate Sum of a List\n",
        "* Develop a Python function called *calculate_sum* that takes a list of numbers as input and returns the sum of the numbers.\n",
        "\n",
        "(Hint: The function should take list data type as argument, not multiple integers)"
      ],
      "metadata": {
        "id": "7fWqBstTjFn5"
      }
    },
    {
      "cell_type": "code",
      "source": [
        "# Define a function named 'calculate_sum' that takes a list of numbers as input\n",
        "def calculate_sum(numbers):\n",
        "  # Return the sum of all numbers in the list\n",
        "  return sum(numbers)\n",
        "\n",
        "# Initialize an empty list to store numbers\n",
        "numbers_list = []\n",
        "\n",
        "# Loop until the user provides valid input\n",
        "while True:\n",
        "  # Get user input as a string\n",
        "  user_input = input(\"Please enter numbers separated by spaces ' ': \")\n",
        "  # Split the input into parts\n",
        "  parts = user_input.split()\n",
        "\n",
        "  # Check if at least two numbers were entered\n",
        "  if len(parts) < 2:\n",
        "    print(\"Error: Please enter at least two numbers.\")\n",
        "    continue\n",
        "\n",
        "  # Try to convert all inputs to integers\n",
        "  try:\n",
        "    numbers_list = list(map(int, parts))\n",
        "    # Exit the loop if all conversions are successful\n",
        "    break\n",
        "  except ValueError:\n",
        "    # Print error message if any input is not a valid integer\n",
        "    print(\"Error: All inputs must be valid integers.\")\n",
        "\n",
        "# Call the function 'calculate_sum' and print the result\n",
        "print(f\"The sum of the numbers is: {calculate_sum(numbers_list)}\")\n"
      ],
      "metadata": {
        "colab": {
          "base_uri": "https://localhost:8080/"
        },
        "id": "MK_XV06EkncN",
        "outputId": "9a713fa3-7403-4c0f-9441-daa56234b1fe"
      },
      "execution_count": 7,
      "outputs": [
        {
          "output_type": "stream",
          "name": "stdout",
          "text": [
            "Please enter numbers separated by spaces ' ': 12 34 76 9\n",
            "The sum of the numbers is: 131\n"
          ]
        }
      ]
    },
    {
      "cell_type": "markdown",
      "source": [
        "### Task 6: Extract Prime Numbers\n",
        "* Write a Python function named *prime_numbers_in_list* that takes a list of numbers as input and returns a new list containing only the prime numbers from the original list.\n",
        "\n",
        "(Hint: A prime number is a positive integer with exactly two divisors: 1 and itself)"
      ],
      "metadata": {
        "id": "uyb4YxUupxJX"
      }
    },
    {
      "cell_type": "code",
      "source": [
        "# Define a function 'is_prime' to check if a number is prime\n",
        "def is_prime(num):\n",
        "    # Prime numbers must be greater than 1\n",
        "    if num <= 1:\n",
        "        return False\n",
        "    # Check numbers from 2 to the square root of 'num' to see if they divide evenly with no remainder\n",
        "    for i in range(2, int(num ** 0.5) + 1):\n",
        "        if num % i == 0:\n",
        "            return False\n",
        "    return True\n",
        "\n",
        "# Define a function named 'prime_numbers_in_list' that takes a list of numbers as input\n",
        "def prime_numbers_in_list(numbers):\n",
        "    # Create a new list containing only prime numbers from the input list\n",
        "    prime_list = []\n",
        "    # Go thru the input list one number at a time\n",
        "    for num in numbers:\n",
        "      # Call the function 'is_prime' to check for prime numbers\n",
        "      if is_prime(num):\n",
        "        # If it is a prime number append to the new list\n",
        "        prime_list.append(num)\n",
        "    return prime_list\n",
        "\n",
        "# Initialize an empty list to store valid numbers\n",
        "numbers_list = []\n",
        "\n",
        "# Loop until the user provides valid input\n",
        "while True:\n",
        "    # Get user input as a string\n",
        "    user_input = input(\"Please enter numbers separated by spaces ' ': \")\n",
        "    # Split the input into parts\n",
        "    parts = user_input.split()\n",
        "\n",
        "    # Check if at least one number was entered\n",
        "    if len(parts) == 0:\n",
        "        print(\"Error: Please enter at least one number.\")\n",
        "        continue\n",
        "\n",
        "    # Try to convert all inputs to integers\n",
        "    try:\n",
        "        numbers_list = list(map(int, parts))\n",
        "        # Exit the loop if all conversions are successful\n",
        "        break\n",
        "    except ValueError:\n",
        "        # Print error message if any input is not a valid integer\n",
        "        print(\"Error: All inputs must be valid integers.\")\n",
        "\n",
        "# Call the function 'prime_numbers_in_list' and print appropriate message\n",
        "if len(prime_numbers_in_list(numbers_list)) == 0:\n",
        "  # Print no prime number in the list if none found\n",
        "  print(\"There is no prime number in the list.\")\n",
        "else:\n",
        "  # Print a new list containing only the prime numbers\n",
        "  print(f\"The prime numbers in the list are: {prime_numbers_in_list(numbers_list)}\")\n"
      ],
      "metadata": {
        "colab": {
          "base_uri": "https://localhost:8080/"
        },
        "id": "YRhgQp4Zqp8Q",
        "outputId": "fdaf9145-08ce-435d-cda1-51d75627ef5e"
      },
      "execution_count": 8,
      "outputs": [
        {
          "output_type": "stream",
          "name": "stdout",
          "text": [
            "Please enter numbers separated by spaces ' ': 0 1 2 3 4 5 6 7 8 9 10 11 12 13 14 15 16 17 18 19 20 21\n",
            "The prime numbers in the list are: [2, 3, 5, 7, 11, 13, 17, 19]\n"
          ]
        }
      ]
    },
    {
      "cell_type": "markdown",
      "source": [
        "### Task 7: Factorial Calculation\n",
        "* Create a Python function named *calculate_factorial* that takes a number as input and returns the factorial of that number.\n",
        "\n",
        "(Hint: The factorial of a number is the product of all positive integers less than or equal to that number.)"
      ],
      "metadata": {
        "id": "nm5d7xPG1Knz"
      }
    },
    {
      "cell_type": "code",
      "source": [
        "# Define a function named 'calculate_factorial' that takes a number as input\n",
        "def calculate_factorial(num):\n",
        "  # Initialize 'factorial' to 1\n",
        "  factorial = 1\n",
        "  # Multiply all numbers from 1 to 'num'\n",
        "  for i in range(1, num + 1):\n",
        "    factorial *= i\n",
        "  return factorial\n",
        "\n",
        "# Initialize variable to store the number\n",
        "num = None\n",
        "\n",
        "# Loop until the user provides valid input\n",
        "while True:\n",
        "  # Get user input as a string\n",
        "  user_input = input(\"Please enter a positive integer: \")\n",
        "\n",
        "  # Try to convert the input to an integer\n",
        "  try:\n",
        "    num = int(user_input)\n",
        "\n",
        "    # Check if the number is negative\n",
        "    if num < 0:\n",
        "      print(\"Error: Factorial is not defined for negative numbers.\")\n",
        "      continue\n",
        "\n",
        "    # Exit the loop if conversion is successful and number is valid\n",
        "    break\n",
        "  except ValueError:\n",
        "    # Print error message if input is not a valid integer\n",
        "    print(\"Error: Please enter a valid integer.\")\n",
        "\n",
        "# Call the function 'calculate_factorial' and print the returned result\n",
        "print(f\"The factorial of {num} is: {calculate_factorial(num)}\")"
      ],
      "metadata": {
        "colab": {
          "base_uri": "https://localhost:8080/"
        },
        "id": "AIheEQRq1cI6",
        "outputId": "2ced9587-31ce-4b5c-c6b9-50119046521b"
      },
      "execution_count": 9,
      "outputs": [
        {
          "output_type": "stream",
          "name": "stdout",
          "text": [
            "Please enter a positive integer: 11\n",
            "The factorial of 11 is: 39916800\n"
          ]
        }
      ]
    }
  ]
}
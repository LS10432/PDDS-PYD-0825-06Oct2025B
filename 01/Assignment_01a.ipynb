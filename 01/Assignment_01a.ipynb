{
  "nbformat": 4,
  "nbformat_minor": 0,
  "metadata": {
    "colab": {
      "provenance": [],
      "authorship_tag": "ABX9TyNpofAcA1m1mJ0SMIKqiyBX",
      "include_colab_link": true
    },
    "kernelspec": {
      "name": "python3",
      "display_name": "Python 3"
    },
    "language_info": {
      "name": "python"
    }
  },
  "cells": [
    {
      "cell_type": "markdown",
      "metadata": {
        "id": "view-in-github",
        "colab_type": "text"
      },
      "source": [
        "<a href=\"https://colab.research.google.com/github/LS10432/PDDS-PYD-0825-06Oct2025B/blob/main/01/Assignment_01a.ipynb\" target=\"_parent\"><img src=\"https://colab.research.google.com/assets/colab-badge.svg\" alt=\"Open In Colab\"/></a>"
      ]
    },
    {
      "cell_type": "markdown",
      "source": [
        "Task 1: Variable Manipulation\n",
        "*   Create two variables named *num1* and *num2* and assign them integer values of your choice.\n",
        "*   Calculate the sum of *num1* and *num2* and store the result in a variable called *sum_result*.\n",
        "*   Print the value of *sum_result*."
      ],
      "metadata": {
        "id": "3LO8iI3XAVaa"
      }
    },
    {
      "cell_type": "code",
      "source": [
        "num1 = 10\n",
        "num2 = 20\n",
        "sum_result = num1 + num2\n",
        "print(sum_result)"
      ],
      "metadata": {
        "colab": {
          "base_uri": "https://localhost:8080/"
        },
        "id": "HzpP8osRAt_y",
        "outputId": "c741be57-59e9-479e-fa28-637826278738"
      },
      "execution_count": 2,
      "outputs": [
        {
          "output_type": "stream",
          "name": "stdout",
          "text": [
            "30\n"
          ]
        }
      ]
    },
    {
      "cell_type": "markdown",
      "source": [
        "Task 2: Operator Exploration\n",
        "*   Create a variable named *division* and assign it the division result of *num1* and *num2*.\n",
        "*   Create another variable named *remainder* and assign it the remainder when *num2* is divided by *num1*.\n",
        "*   Print the values of *division* and *remainder* in a single line with appropriate messages."
      ],
      "metadata": {
        "id": "l0fK6AhbBzPy"
      }
    },
    {
      "cell_type": "code",
      "source": [
        "num1 = 2\n",
        "num2 = 7\n",
        "division = num2 / num1\n",
        "remainder = num2 % num1\n",
        "print(f\"Division: {division}, Remainder: {remainder}\")"
      ],
      "metadata": {
        "colab": {
          "base_uri": "https://localhost:8080/"
        },
        "id": "X9CVurvBCSiY",
        "outputId": "5c4adba8-e5af-46e9-cc98-38ff38c76760"
      },
      "execution_count": 4,
      "outputs": [
        {
          "output_type": "stream",
          "name": "stdout",
          "text": [
            "Division: 3.5, Remainder: 1\n"
          ]
        }
      ]
    }
  ]
}
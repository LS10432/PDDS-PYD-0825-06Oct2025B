{
  "nbformat": 4,
  "nbformat_minor": 0,
  "metadata": {
    "colab": {
      "provenance": [],
      "authorship_tag": "ABX9TyNmoi/ozpiTo7kiq6Fe1FVn",
      "include_colab_link": true
    },
    "kernelspec": {
      "name": "python3",
      "display_name": "Python 3"
    },
    "language_info": {
      "name": "python"
    }
  },
  "cells": [
    {
      "cell_type": "markdown",
      "metadata": {
        "id": "view-in-github",
        "colab_type": "text"
      },
      "source": [
        "<a href=\"https://colab.research.google.com/github/LS10432/PDDS-PYD-0825-06Oct2025B/blob/main/02/Assignment_02a.ipynb\" target=\"_parent\"><img src=\"https://colab.research.google.com/assets/colab-badge.svg\" alt=\"Open In Colab\"/></a>"
      ]
    },
    {
      "cell_type": "markdown",
      "source": [
        "### Task 1: Convert Weights to Pounds\n",
        "* Create a Python list *weight_kg* with weight values\n",
        "* Convert *weight_kg* to numpy array *np_weight_kg*\n",
        "* Convert *np_weight_kg* to weight in Pounds *np_weight_lbs*\n",
        "\n",
        "Hint: Use the conversion factor of 2.2 pounds per kilogram"
      ],
      "metadata": {
        "id": "HKVE8Iwj6Q9K"
      }
    },
    {
      "cell_type": "code",
      "source": [
        "# Import NumPy library into script and gives it an alias 'np'\n",
        "import numpy as np\n",
        "\n",
        "# Use the provided Python list of weights in kg\n",
        "weight_kg = [66, 77, 88, 99, 101]\n",
        "\n",
        "# Convert the input list to a numpy array\n",
        "np_weight_kg = np.array(weight_kg)\n",
        "\n",
        "# Convert weight from kg to pounds (1 kg = 2.2 lbs)\n",
        "np_weight_lbs = np_weight_kg * 2.2\n",
        "\n",
        "# Print the results in kg\n",
        "print(f\"\\nWeight in kg: {weight_kg}\")\n",
        "\n",
        "# Print the results in pounds\n",
        "print(f\"Weight in lbs: {np_weight_lbs}\")"
      ],
      "metadata": {
        "colab": {
          "base_uri": "https://localhost:8080/"
        },
        "id": "kyjoPfjJ7LLJ",
        "outputId": "354bb638-37e5-4804-fe5c-45bb3031f21a"
      },
      "execution_count": 2,
      "outputs": [
        {
          "output_type": "stream",
          "name": "stdout",
          "text": [
            "\n",
            "Weight in kg: [66, 77, 88, 99, 101]\n",
            "Weight in lbs: [145.2 169.4 193.6 217.8 222.2]\n"
          ]
        }
      ]
    },
    {
      "cell_type": "markdown",
      "source": [
        "### Task 2: Calculate Mean and Median\n",
        "\n",
        "* Write a NumPy program to calculate the mean and median of the weights in pounds. Print out the results."
      ],
      "metadata": {
        "id": "dTlU191u8nTp"
      }
    },
    {
      "cell_type": "code",
      "source": [
        "# Calculate the mean of the weights in pounds\n",
        "mean_weight_lbs = np.mean(np_weight_lbs)\n",
        "\n",
        "# Print the Mean weight in pounds to 2 decimal places\n",
        "print(f\"\\nMean weight in lbs: {mean_weight_lbs:.2f}\")\n",
        "\n",
        "# Calculate the median of the weights in pounds\n",
        "median_weight_lbs = np.median(np_weight_lbs)\n",
        "\n",
        "# Print the Median weight in pounds to 2 decimal places\n",
        "print(f\"Median weight in lbs: {median_weight_lbs:.2f}\")"
      ],
      "metadata": {
        "colab": {
          "base_uri": "https://localhost:8080/"
        },
        "id": "48-Ej7ug9JI2",
        "outputId": "e301c418-18f5-4978-ff96-44367748e5fe"
      },
      "execution_count": 7,
      "outputs": [
        {
          "output_type": "stream",
          "name": "stdout",
          "text": [
            "\n",
            "Mean weight in lbs: 189.64\n",
            "Median weight in lbs: 193.60\n"
          ]
        }
      ]
    },
    {
      "cell_type": "markdown",
      "source": [
        "### Task 3: Create 2D Array\n",
        "* Create a NumPy array *np_height_m* containing the heights of individuals in meters.\n",
        "* Combine this array with the weights in pounds *np_weight_lbs* to create a 2D array *np_person_info* where each row represents an individual's height and weight.\n",
        "* Print the resulting 2D array."
      ],
      "metadata": {
        "id": "XKvzaz63AmYT"
      }
    },
    {
      "cell_type": "code",
      "source": [
        "# Create a NumPy array containing the heights of individuals in meters\n",
        "np_height_m = np.array([1.6, 1.7, 1.8, 1.9, 2.1])\n",
        "\n",
        "# Combine height and weight arrays to create a 2D array\n",
        "# Each row contains [height (m), weight (lbs)] for an individual\n",
        "np_person_info = np.column_stack((np_height_m, np_weight_lbs))\n",
        "\n",
        "# Print a newline followed by a separator line\n",
        "print(\"\\n\" + \"=\"*60)\n",
        "# Print section header for person information\n",
        "print(\"PERSON INFORMATION\")\n",
        "# Print separator line\n",
        "print(\"=\"*60)\n",
        "\n",
        "# Print result in 2D array\n",
        "print(\"[Height (m), Weight (lbs)]\")\n",
        "print(np_person_info)"
      ],
      "metadata": {
        "colab": {
          "base_uri": "https://localhost:8080/"
        },
        "id": "One0v5mFBftV",
        "outputId": "60e3a422-4820-4d92-ce18-73173afc4000"
      },
      "execution_count": 4,
      "outputs": [
        {
          "output_type": "stream",
          "name": "stdout",
          "text": [
            "\n",
            "============================================================\n",
            "PERSON INFORMATION\n",
            "============================================================\n",
            "[Height (m), Weight (lbs)]\n",
            "[[  1.6 145.2]\n",
            " [  1.7 169.4]\n",
            " [  1.8 193.6]\n",
            " [  1.9 217.8]\n",
            " [  2.1 222.2]]\n"
          ]
        }
      ]
    },
    {
      "cell_type": "markdown",
      "source": [
        "### Task 4: Calculate BMI\n",
        "* Write a function that takes the 2D array *np_person_info* created in Task 3 as input.\n",
        "* Calculate the Body Mass Index (BMI) for each individual as *bmi_array*. BMI is calculated using the formula: BMI = weight (kg) / (height (m) ** 2).\n",
        "* Print the BMI values for each individual."
      ],
      "metadata": {
        "id": "s1OK8iLhCqey"
      }
    },
    {
      "cell_type": "code",
      "source": [
        "# Define a function named 'calculate_bmi' to calculate BMI from the 2D array 'np_person_info'\n",
        "def calculate_bmi(person_info):\n",
        "  # Extract height (column 0) and weight in lbs (column 1) from the 2D array\n",
        "  heights = person_info[:, 0]\n",
        "  weights_lbs = person_info[:, 1]\n",
        "\n",
        "  # Convert weight from pounds to kg (1 lb = 1 kg / 2.2)\n",
        "  weights_kg = weights_lbs / 2.2\n",
        "\n",
        "  # Calculate BMI using the formula: BMI = weight (kg) / (height (m) ** 2)\n",
        "  bmi_array = weights_kg / (heights ** 2)\n",
        "\n",
        "  # Return the calculated BMI array\n",
        "  return bmi_array\n",
        "\n",
        "# Call the function 'calculate_bmi' to calculate BMI for each individual\n",
        "bmi_array = calculate_bmi(np_person_info)\n",
        "\n",
        "# Print a newline followed by a separator line\n",
        "print(\"\\n\" + \"=\"*60)\n",
        "# Print section header for BMI values\n",
        "print(\"BMI VALUES\")\n",
        "# Print separator line\n",
        "print(\"=\"*60)\n",
        "\n",
        "# Iterate through 'bmi_array' to get each individual 'bmi_value' value\n",
        "for i, bmi_value in enumerate(bmi_array):\n",
        "  # Print the BMI for each individual and format the 'bmi_value' to 2 decimal places\n",
        "  print(f\"Individual {i+1}: {bmi_value:.2f}\")"
      ],
      "metadata": {
        "colab": {
          "base_uri": "https://localhost:8080/"
        },
        "id": "Djbrth42DZ0y",
        "outputId": "a1e1c97b-a776-4e93-c99e-fcfe82a4dc9b"
      },
      "execution_count": 8,
      "outputs": [
        {
          "output_type": "stream",
          "name": "stdout",
          "text": [
            "\n",
            "============================================================\n",
            "BMI VALUES\n",
            "============================================================\n",
            "Individual 1: 25.78\n",
            "Individual 2: 26.64\n",
            "Individual 3: 27.16\n",
            "Individual 4: 27.42\n",
            "Individual 5: 22.90\n"
          ]
        }
      ]
    },
    {
      "cell_type": "markdown",
      "source": [
        "### Task 5: Filter Individuals by BMI\n",
        "* Write a NumPy program to append *bmi_array* to *np_person_info*\n",
        "* Filter individuals from the resulting array who have a BMI greater than 25.\n",
        "* Print the filtered results."
      ],
      "metadata": {
        "id": "9ayHVf9KERYB"
      }
    },
    {
      "cell_type": "code",
      "source": [
        "# Reshape bmi_array to a column vector for appending\n",
        "bmi_column = bmi_array.reshape(-1, 1)\n",
        "\n",
        "# Append bmi_array as a new column to np_person_info\n",
        "# Each row now contains [height, weight, bmi]\n",
        "np_person_info = np.column_stack((np_person_info, bmi_column))\n",
        "\n",
        "# Print a newline followed by a separator line\n",
        "print(\"\\n\" + \"=\"*60)\n",
        "# Print section header for updated person information with BMI\n",
        "print(\"UPDATED PERSON INFORMATION WITH BMI\")\n",
        "# Print separator line\n",
        "print(\"=\"*60)\n",
        "\n",
        "# Print the updated 2D array with BMI column\n",
        "print(\"[Height (m), Weight (lbs), BMI]\")\n",
        "print(np_person_info)\n",
        "\n",
        "# Print a newline followed by a separator line\n",
        "print(\"\\n\" + \"=\"*60)\n",
        "# Print section header for filtered results\n",
        "print(\"FILTERED RESULTS (BMI > 25)\")\n",
        "# Print separator line\n",
        "print(\"=\"*60)\n",
        "\n",
        "# Filter individuals with BMI greater than 25\n",
        "# Create a boolean mask where BMI (column 2) is greater than 25\n",
        "filtered_person_info = np_person_info[np_person_info[:, 2] > 25]\n",
        "\n",
        "# Check if any individuals have BMI greater than 25\n",
        "if len(filtered_person_info) > 0:\n",
        "  # Display format explanation for filtered results\n",
        "  print(\"[Height (m), Weight (lbs), BMI]\")\n",
        "  # Display the filtered 2D array\n",
        "  print(filtered_person_info)\n",
        "else:\n",
        "  # Display message indicating no matches found\n",
        "  print(\"No individuals have BMI greater than 25.\")"
      ],
      "metadata": {
        "colab": {
          "base_uri": "https://localhost:8080/"
        },
        "id": "YkNgYc4KIYdA",
        "outputId": "2dec932e-ea1e-4576-c61a-db9bb8b3e929"
      },
      "execution_count": 10,
      "outputs": [
        {
          "output_type": "stream",
          "name": "stdout",
          "text": [
            "\n",
            "============================================================\n",
            "UPDATED PERSON INFORMATION WITH BMI\n",
            "============================================================\n",
            "[Height (m), Weight (lbs), BMI]\n",
            "[[  1.6        145.2         25.78125     25.78125   ]\n",
            " [  1.7        169.4         26.64359862  26.64359862]\n",
            " [  1.8        193.6         27.16049383  27.16049383]\n",
            " [  1.9        217.8         27.42382271  27.42382271]\n",
            " [  2.1        222.2         22.90249433  22.90249433]]\n",
            "\n",
            "============================================================\n",
            "FILTERED RESULTS (BMI > 25)\n",
            "============================================================\n",
            "[Height (m), Weight (lbs), BMI]\n",
            "[[  1.6        145.2         25.78125     25.78125   ]\n",
            " [  1.7        169.4         26.64359862  26.64359862]\n",
            " [  1.8        193.6         27.16049383  27.16049383]\n",
            " [  1.9        217.8         27.42382271  27.42382271]]\n"
          ]
        }
      ]
    }
  ]
}